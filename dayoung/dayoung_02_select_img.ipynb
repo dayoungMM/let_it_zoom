{
 "cells": [
  {
   "cell_type": "markdown",
   "metadata": {},
   "source": [
    "## 이미지 고르기\n",
    "- 이미지 보고 파일 고르기\n",
    "- 둘중에 좋은 이미지 엑셀에 남기기"
   ]
  },
  {
   "cell_type": "code",
   "execution_count": null,
   "metadata": {},
   "outputs": [],
   "source": [
    "# 최종 이미지 링크 파일 가져오기\n",
    "imgs = pd.read_csv(\"[파일이름].csv\", encoding ='euc-kr')\n",
    "\n",
    "from PIL import Image \n",
    "import requests\n",
    "from io import BytesIO\n",
    "for i in range(10):\n",
    "    img = imgs.iloc[i]\n",
    "    name = img['name']\n",
    "    url1 = requests.get(img['img1'])\n",
    "    url2 = requests.get(img['img2'])\n",
    "    img1 = Image.open(BytesIO(url1.content))\n",
    "    img2 = Image.open(BytesIO(url2.content))\n",
    "    print(i+2,name)\n",
    "    display(img1)\n",
    "    display(img2)"
   ]
  },
  {
   "cell_type": "code",
   "execution_count": null,
   "metadata": {},
   "outputs": [],
   "source": [
    "link_df.to_csv('food.csv', index=False, encoding='euc-kr')"
   ]
  }
 ],
 "metadata": {
  "kernelspec": {
   "display_name": "Python 3",
   "language": "python",
   "name": "python3"
  },
  "language_info": {
   "codemirror_mode": {
    "name": "ipython",
    "version": 3
   },
   "file_extension": ".py",
   "mimetype": "text/x-python",
   "name": "python",
   "nbconvert_exporter": "python",
   "pygments_lexer": "ipython3",
   "version": "3.7.4"
  }
 },
 "nbformat": 4,
 "nbformat_minor": 2
}
